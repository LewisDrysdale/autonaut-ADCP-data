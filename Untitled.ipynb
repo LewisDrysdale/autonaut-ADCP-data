{
 "cells": [
  {
   "cell_type": "code",
   "execution_count": 1,
   "metadata": {},
   "outputs": [
    {
     "name": "stdout",
     "output_type": "stream",
     "text": [
      "Indexing c:/Users\\sa01ld\\OneDrive - SAMS\\Projects\\Autonaut-EE\\Non-Acoustic data\\process-raw\\zipped-files\\101512_20210803T115712UTC.AD2CP... Done.\n",
      "Reading file c:/Users\\sa01ld\\OneDrive - SAMS\\Projects\\Autonaut-EE\\Non-Acoustic data\\process-raw\\zipped-files\\101512_20210803T115712UTC.AD2CP ...\n"
     ]
    }
   ],
   "source": [
    "import dolfyn as dlfn\n",
    "dat = dlfn.read('c:/Users\\\\sa01ld\\\\OneDrive - SAMS\\\\Projects\\\\Autonaut-EE\\\\Non-Acoustic data\\\\process-raw\\\\zipped-files\\\\101512_20210803T115712UTC.AD2CP')"
   ]
  },
  {
   "cell_type": "code",
   "execution_count": null,
   "metadata": {},
   "outputs": [],
   "source": []
  }
 ],
 "metadata": {
  "kernelspec": {
   "display_name": "Python 3",
   "language": "python",
   "name": "python3"
  },
  "language_info": {
   "codemirror_mode": {
    "name": "ipython",
    "version": 3
   },
   "file_extension": ".py",
   "mimetype": "text/x-python",
   "name": "python",
   "nbconvert_exporter": "python",
   "pygments_lexer": "ipython3",
   "version": "3.8.5"
  }
 },
 "nbformat": 4,
 "nbformat_minor": 4
}
