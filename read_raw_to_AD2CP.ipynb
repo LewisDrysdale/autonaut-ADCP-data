{
 "cells": [
  {
   "cell_type": "code",
   "execution_count": null,
   "metadata": {},
   "outputs": [],
   "source": [
    "import os \n",
    "import glob\n",
    "import zipfile\n",
    "import dolfyn as dlfn\n",
    "import xarray as xr\n",
    "import pandas as pd\n",
    "from dolfyn.adp import api\n",
    "from matplotlib import pyplot as plt\n",
    "import matplotlib.dates as dt"
   ]
  },
  {
   "cell_type": "code",
   "execution_count": null,
   "metadata": {},
   "outputs": [],
   "source": [
    "# READ AD2CP FILES AND MERGE\n",
    "wdir     = os.path.join('c:/','Users','sa01ld','OneDrive - SAMS','Projects','Autonaut-EE', 'Non-Acoustic data','process-raw')\n",
    "zdir     = os.path.join('c:/','Users','sa01ld','OneDrive - SAMS','Projects','Autonaut-EE', 'Non-Acoustic data','process-raw','zipped-files')\n",
    "indir    = os.path.join(wdir + '/*.sigVM')\n",
    "\n",
    "# deal with the file formats. Change file extensions to zip from sigVM and unzip\n",
    "fname =glob.glob(indir)\n",
    "\n",
    "if fname:\n",
    "    for i in fname:\n",
    "        print(i)\n",
    "        bn = os.path.splitext(os.path.basename(i))[0]\n",
    "        old=i\n",
    "        new=os.path.join(zdir,bn+'.zip')\n",
    "        os.rename(old, new)\n",
    "        \n",
    "indir    = os.path.join(zdir + '/*.zip')        \n",
    "fname =glob.glob(indir)\n",
    "fname \n",
    "\n",
    "if fname:\n",
    "    for i in fname:\n",
    "        with zipfile.ZipFile(i,\"r\") as zip_ref:\n",
    "            zip_ref.extractall(zdir)\n",
    "\n",
    "# GET ALL AD2CP FILES \n",
    "ad2cpdir= os.path.join(zdir + '/*.AD2CP')\n",
    "fname =glob.glob(ad2cpdir)\n",
    "\n",
    "# GET ALL NMEA FILES\n",
    "ndir     = os.path.join('c:/','Users','sa01ld','OneDrive - SAMS','Projects','Autonaut-EE', 'Non-Acoustic data','batch-process-GNSS')\n",
    "nmdir    = os.path.join(ndir + '/*_Data')\n",
    "nmname =glob.glob(nmdir)\n",
    "\n",
    "for i in fname:\n",
    "    dat = dlfn.read(i)\n",
    "    bn = os.path.splitext(os.path.basename(i))[0] # unique file ID\n",
    "    csvpath=os.path.join(nmname,bn+'.csv')\n",
    "    df=pd.read_csv(csvpath) # nav data\n",
    "    da = dlfn.read(fname[1]) # adcp data\n",
    "# ds = dlfn.read(fname[2])\n",
    "# dd=xr.merge([da,ds])\n",
    "# dd\n",
    "\n",
    "\n",
    "\n",
    "\n",
    "# for i in fname:\n",
    "#     csvpath=os.path.join(i+'/*.csv')\n",
    "#     fle =glob.glob(csvpath)\n",
    "#     df=pd.read_csv(fle[0]) \n",
    "    "
   ]
  },
  {
   "cell_type": "code",
   "execution_count": null,
   "metadata": {},
   "outputs": [],
   "source": []
  },
  {
   "cell_type": "code",
   "execution_count": null,
   "metadata": {},
   "outputs": [],
   "source": [
    " "
   ]
  },
  {
   "cell_type": "markdown",
   "metadata": {},
   "source": [
    "Earth: When the data object is in ‘earth’ coordinates, the first dimension of vectors are: [East, North, Up, …]. This coordinate system is also sometimes denoted as “ENU”. If the declination is set the earth coordinate system is “True-East, True-North, Up” otherwise, East and North are magnetic. See the Declination Handling section for further details on setting declination."
   ]
  },
  {
   "cell_type": "code",
   "execution_count": null,
   "metadata": {},
   "outputs": [],
   "source": []
  },
  {
   "cell_type": "code",
   "execution_count": null,
   "metadata": {},
   "outputs": [],
   "source": [
    "Evel=dd.vel.sel(dir=1,range=5)\n",
    "Nvel=dd.vel.sel(dir=2,range=5)\n"
   ]
  },
  {
   "cell_type": "code",
   "execution_count": null,
   "metadata": {},
   "outputs": [],
   "source": [
    "%matplotlib inline\n",
    "ds.corr.sel(beam=1, range=slice(0,70)).plot()"
   ]
  },
  {
   "cell_type": "code",
   "execution_count": null,
   "metadata": {},
   "outputs": [],
   "source": [
    "ds = api.clean.correlation_filter(ds, thresh=50)\n",
    "\n",
    "%matplotlib inline\n",
    "ds.corr.sel(beam=1, range=slice(0,70)).plot()"
   ]
  },
  {
   "cell_type": "code",
   "execution_count": null,
   "metadata": {},
   "outputs": [],
   "source": [
    "ds_avg['U_mag'] = ds_avg.velds.U_mag\n",
    "ds_avg['U_dir'] = ds_avg.velds.U_dir\n",
    "ds_avg['U_dir'].data = dlfn.tools.misc.convert_degrees(ds_avg['U_dir'].values, tidal_mode=True)\n",
    "\n",
    "%matplotlib inline\n",
    "ax = plt.figure(figsize=(12,8)).add_axes([.14, .14, .8, .74])\n",
    "# Plot the horizontal velocity magnitude\n",
    "t = dlfn.time.dt642date(ds_avg.time)\n",
    "plt.pcolormesh(t, ds_avg.range, ds_avg['U_mag'], cmap='Blues', shading='nearest')\n",
    "# Plot the water surface\n",
    "ax.plot(t, ds_avg.depth)\n",
    "\n",
    "# Set up time on x-axis\n",
    "ax.set_xlabel('Time')\n",
    "ax.xaxis.set_major_formatter(dt.DateFormatter('%H:%M'))\n",
    "\n",
    "ax.set_ylabel('Altitude [m]')\n",
    "ax.set_ylim([0, 12])\n",
    "plt.colorbar(label='Horizontal Vel [m/s]')"
   ]
  }
 ],
 "metadata": {
  "kernelspec": {
   "display_name": "Python 3",
   "language": "python",
   "name": "python3"
  },
  "language_info": {
   "codemirror_mode": {
    "name": "ipython",
    "version": 3
   },
   "file_extension": ".py",
   "mimetype": "text/x-python",
   "name": "python",
   "nbconvert_exporter": "python",
   "pygments_lexer": "ipython3",
   "version": "3.8.5"
  }
 },
 "nbformat": 4,
 "nbformat_minor": 4
}
